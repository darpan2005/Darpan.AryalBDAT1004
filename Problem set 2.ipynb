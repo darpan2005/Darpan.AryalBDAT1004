{
 "cells": [
  {
   "cell_type": "code",
   "execution_count": null,
   "id": "1e94dafa",
   "metadata": {},
   "outputs": [],
   "source": [
    "#Question 1\n",
    "1) a = 0: This line initializes a variable a with the value of 0.\n",
    "\n",
    "2) def b(): starts the definition of the function b.\n",
    "\n",
    "3) global a: This statement inside the function b indicates that the variable a being referred to is the global variable a defined outside the function. It is not necessary in this context because we are not assigning any new value to a within the function.\n",
    "\n",
    "4) a = c(a): This line calls the function c with the current value of a (which is 0). The function c adds 2 to the value of a and returns the result, which is 2. However, the local a is then assigned the value returned by c(a), so a becomes 2.\n",
    "\n",
    "5) def c(a): defines the function c that takes an argument a.\n",
    "\n",
    "6) return a + 2 adds 2 to the argument a and returns the result.\n",
    "\n",
    "Now, let's consider the execution:\n",
    "\n",
    "1) b(): The first call to function b executes the line a = c(a), which changes the value of the global variable a to 2.\n",
    "\n",
    "2) b(): The second call to function b again executes the line a = c(a), which changes the value of the global variable a to 4.\n",
    "\n",
    "3) b(): The third call to function b again executes the line a = c(a), which changes the value of the global variable a to 6.\n",
    "\n",
    "4) a: The value of a is 6 because the last three calls to function b have modified the global variable a each time by adding 2. So, when we execute a, the value displayed would be 6."
   ]
  },
  {
   "cell_type": "code",
   "execution_count": 4,
   "id": "e546e15e",
   "metadata": {},
   "outputs": [],
   "source": [
    "#Question 2\n",
    "def fileLength(filename):\n",
    "    try:\n",
    "        infile = open(filename)\n",
    "        content = infile.read()\n",
    "        infile.close()\n",
    "        print(len(content))\n",
    "    except FileNotFoundError:\n",
    "        print(f\"File {filename} not found.\")\n",
    "        \n",
    "\n"
   ]
  },
  {
   "cell_type": "code",
   "execution_count": 5,
   "id": "7cf25bb0",
   "metadata": {},
   "outputs": [
    {
     "name": "stdout",
     "output_type": "stream",
     "text": [
      "['doll', 'firetruck', 'kitten']\n",
      "I am a Kangaroo located at coordinates (0,0)\n",
      "['doll', 'firetruck', 'kitten']\n",
      "I am a Kangaroo located at coordinates (3,0)\n"
     ]
    }
   ],
   "source": [
    "#Question 3\n",
    "\n",
    "class Marsupial:\n",
    "    def __init__(self):\n",
    "        self.pouch = []\n",
    "\n",
    "    def put_in_pouch(self, item):\n",
    "        self.pouch.append(item)\n",
    "\n",
    "    def pouch_contents(self):\n",
    "        return self.pouch\n",
    "\n",
    "\n",
    "class Kangaroo(Marsupial):\n",
    "    def __init__(self, x, y):\n",
    "        super().__init__()\n",
    "        self.x = x\n",
    "        self.y = y\n",
    "\n",
    "    def jump(self, dx, dy):\n",
    "        self.x += dx\n",
    "        self.y += dy\n",
    "\n",
    "    def __str__(self):\n",
    "        return f\"I am a Kangaroo located at coordinates ({self.x},{self.y})\"\n",
    "\n",
    "\n",
    "# Example usage\n",
    "m = Marsupial()\n",
    "m.put_in_pouch('doll')\n",
    "m.put_in_pouch('firetruck')\n",
    "m.put_in_pouch('kitten')\n",
    "print(m.pouch_contents())\n",
    "\n",
    "k = Kangaroo(0, 0)\n",
    "print(k)\n",
    "k.put_in_pouch('doll')\n",
    "k.put_in_pouch('firetruck')\n",
    "k.put_in_pouch('kitten')\n",
    "print(k.pouch_contents())\n",
    "k.jump(1, 0)\n",
    "k.jump(1, 0)\n",
    "k.jump(1, 0)\n",
    "print(k)\n"
   ]
  },
  {
   "cell_type": "code",
   "execution_count": 10,
   "id": "291473b0",
   "metadata": {},
   "outputs": [
    {
     "name": "stdout",
     "output_type": "stream",
     "text": [
      "1\n",
      "\n",
      "10\n",
      "5\n",
      "16\n",
      "8\n",
      "4\n",
      "2\n",
      "1\n"
     ]
    }
   ],
   "source": [
    "#Question 4\n",
    "\n",
    "def collatz(x):\n",
    "    print(x)\n",
    "    if x == 1:  # Base case, stop when x reaches 1\n",
    "        return\n",
    "    elif x % 2 == 0:\n",
    "        collatz(x // 2)  # If x is even, recursively call collatz with x // 2\n",
    "    else:\n",
    "        collatz(3 * x + 1)  # If x is odd, recursively call collatz with 3 * x + 1\n",
    "\n",
    "\n",
    "\n",
    "collatz(1)\n",
    "print()\n",
    "collatz(10)\n"
   ]
  },
  {
   "cell_type": "code",
   "execution_count": 11,
   "id": "1698de31",
   "metadata": {},
   "outputs": [
    {
     "name": "stdout",
     "output_type": "stream",
     "text": [
      "0\n",
      "1\n",
      "11\n",
      "1001"
     ]
    }
   ],
   "source": [
    "#Question 5\n",
    "def binary(n):\n",
    "    if n > 1:\n",
    "        binary(n // 2)  # Recursive call with n // 2\n",
    "    print(n % 2, end='')\n",
    "\n",
    "\n",
    "    \n",
    "binary(0)\n",
    "print()\n",
    "binary(1)\n",
    "print()\n",
    "binary(3)\n",
    "print()\n",
    "binary(9)\n",
    "\n"
   ]
  },
  {
   "cell_type": "code",
   "execution_count": 15,
   "id": "495af518",
   "metadata": {},
   "outputs": [
    {
     "name": "stdout",
     "output_type": "stream",
     "text": [
      "W3C Mission\n",
      "    Principles\n"
     ]
    }
   ],
   "source": [
    "#Question 6\n",
    "\n",
    "from html.parser import HTMLParser\n",
    "\n",
    "\n",
    "class HeadingParser(HTMLParser):\n",
    "    def __init__(self):\n",
    "        super().__init__()\n",
    "        self.indent = 0\n",
    "        self.heading_tags = ['h1', 'h2', 'h3', 'h4', 'h5', 'h6']\n",
    "        self.inside_heading = False\n",
    "\n",
    "    def handle_starttag(self, tag, attrs):\n",
    "        if tag in self.heading_tags:\n",
    "            self.inside_heading = True\n",
    "            self.indent = self.heading_tags.index(tag)\n",
    "\n",
    "    def handle_data(self, data):\n",
    "        if self.inside_heading:\n",
    "            print(f\"{'    ' * self.indent}{data}\")\n",
    "\n",
    "    def handle_endtag(self, tag):\n",
    "        if tag in self.heading_tags:\n",
    "            self.inside_heading = False\n",
    "\n",
    "\n",
    "# Example\n",
    "infile = open('w3c.html')\n",
    "content = infile.read()\n",
    "infile.close()\n",
    "\n",
    "hp = HeadingParser()\n",
    "hp.feed(content)\n"
   ]
  },
  {
   "cell_type": "code",
   "execution_count": 16,
   "id": "191b5d8f",
   "metadata": {},
   "outputs": [
    {
     "name": "stdout",
     "output_type": "stream",
     "text": [
      "http://reed.cs.depaul.edu/lperkovic/csc242/test1.html\n"
     ]
    }
   ],
   "source": [
    "#Question 7\n",
    "\n",
    "import requests\n",
    "from bs4 import BeautifulSoup\n",
    "\n",
    "\n",
    "def webdir(url, depth, indent):\n",
    "    if depth == 0:\n",
    "        return\n",
    "\n",
    "    response = requests.get(url)\n",
    "    soup = BeautifulSoup(response.text, 'html.parser')\n",
    "    print(\"  \" * indent + url)\n",
    "\n",
    "    for link in soup.find_all('a'):\n",
    "        href = link.get('href')\n",
    "        if href.startswith('http'):\n",
    "            webdir(href, depth - 1, indent + 1)\n",
    "\n",
    "\n",
    "# Example\n",
    "webdir('http://reed.cs.depaul.edu/lperkovic/csc242/test1.html', 2, 0)\n"
   ]
  },
  {
   "cell_type": "code",
   "execution_count": null,
   "id": "484bb040",
   "metadata": {},
   "outputs": [],
   "source": [
    "#Question 8\n",
    "\n",
    "a) All the temperature data: SELECT Temperature FROM table_name;\n",
    "\n",
    "b) All the cities, but without repetition: SELECT DISTINCT City FROM table_name;\n",
    "\n",
    "c) All the records for India: SELECT * FROM table_name WHERE Country = 'India';\n",
    "\n",
    "d) All the Fall records: SELECT * FROM table_name WHERE Season = 'Fall';\n",
    "\n",
    "e) The city, country, and season for which the average rainfall is between 200 and 400 millimeters: \n",
    "    SELECT City, Country, Season FROM table_name \n",
    "    WHERE Rainfall BETWEEN 200 AND 400;\n",
    "\n",
    "f) The city and country for which the average Fall temperature is above 20 degrees, in increasing temperature order:\n",
    "    SELECT City, Country FROM table_name \n",
    "    WHERE Season = 'Fall' AND Temperature > 20 \n",
    "    ORDER BY Temperature;\n",
    "    \n",
    "g)  The total annual rainfall for Cairo: SELECT SUM(Rainfall) FROM table_name WHERE City = 'Cairo';\n",
    "\n",
    "h) The total rainfall for each season: SELECT Season, SUM(Rainfall) FROM table_name GROUP BY Season;\n",
    "\n",
    "\n",
    "\n",
    "\n",
    "    "
   ]
  },
  {
   "cell_type": "code",
   "execution_count": null,
   "id": "9991134e",
   "metadata": {},
   "outputs": [],
   "source": [
    "#Question 9 \n",
    "\n",
    "a) List with all words in uppercase: \n",
    "    words_upper = [word.upper() for word in words]\n",
    "print(words_upper)\n",
    "\n",
    "b) List with all words in lowercase:\n",
    "    words_lower = [word.lower() for word in words]\n",
    "print(words_lower)\n",
    "\n",
    "c)  List with lengths of words in words:\n",
    "    word_lengths = [len(word) for word in words]\n",
    "print(word_lengths)\n",
    "\n",
    "d) List containing a list for every word of words, with the word in uppercase, lowercase, and the length of the word:\n",
    "    word_info = [[word.upper(), word.lower(), len(word)] for word in words]\n",
    "print(word_info)\n",
    "\n",
    "e) List of words in words containing 4 or more characters:\n",
    "    words_four_or_more = [word for word in words if len(word) >= 4]\n",
    "print(words_four_or_more)\n",
    "\n"
   ]
  }
 ],
 "metadata": {
  "kernelspec": {
   "display_name": "Python 3 (ipykernel)",
   "language": "python",
   "name": "python3"
  },
  "language_info": {
   "codemirror_mode": {
    "name": "ipython",
    "version": 3
   },
   "file_extension": ".py",
   "mimetype": "text/x-python",
   "name": "python",
   "nbconvert_exporter": "python",
   "pygments_lexer": "ipython3",
   "version": "3.11.4"
  }
 },
 "nbformat": 4,
 "nbformat_minor": 5
}
